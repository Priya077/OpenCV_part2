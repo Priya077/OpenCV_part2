{
 "cells": [
  {
   "cell_type": "code",
   "execution_count": null,
   "id": "e83efe21",
   "metadata": {},
   "outputs": [],
   "source": [
    "import cv2\n",
    "import numpy as np\n",
    "\n",
    "# Load some pre-trained data on face frontal from opencv (haar cascade algorithm)\n",
    "trained_face_data = cv2.CascadeClassifier('haarcascade_frontalface_default.xml')\n",
    "\n",
    "# Choose an image to detect faces in\n",
    "img = cv2.imread('pic2.jpg')\n",
    "\n",
    "# Must convert to greyscale\n",
    "grayscaled_img = cv2.cvtColor(img, cv2.COLOR_BGR2GRAY)\n",
    "\n",
    "# Detect Faces\n",
    "face_coordinates = trained_face_data.detectMultiScale(grayscaled_img)\n",
    "\n",
    "img_crop = []\n",
    "width,height=413,531\n",
    "\n",
    "# Draw rectangles around the faces\n",
    "for (x, y, w, h) in face_coordinates:\n",
    "    cv2.rectangle(img, (x, y), (x + w, y + h), (0, 255, 0), 2)\n",
    "    img_crop.append(img[y:y + h, x:x + w])\n",
    "\n",
    "for counter, cropped in enumerate(img_crop):\n",
    "    cv2.imshow('Cropped', cropped)\n",
    "    cropped=cv2.resize(cropped,(width,height))\n",
    "    cv2.imwrite(\"All_PassportSize_Photo\\passport_img_{}.jpg\".format(counter), cropped)\n",
    "    cv2.waitKey()"
   ]
  }
 ],
 "metadata": {
  "kernelspec": {
   "display_name": "Python 3 (ipykernel)",
   "language": "python",
   "name": "python3"
  },
  "language_info": {
   "codemirror_mode": {
    "name": "ipython",
    "version": 3
   },
   "file_extension": ".py",
   "mimetype": "text/x-python",
   "name": "python",
   "nbconvert_exporter": "python",
   "pygments_lexer": "ipython3",
   "version": "3.9.12"
  }
 },
 "nbformat": 4,
 "nbformat_minor": 5
}
